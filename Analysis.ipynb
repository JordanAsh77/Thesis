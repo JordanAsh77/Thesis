{
 "cells": [
  {
   "cell_type": "code",
   "execution_count": 2,
   "id": "83f20bd6",
   "metadata": {},
   "outputs": [
    {
     "ename": "ModuleNotFoundError",
     "evalue": "No module named 'pandas'",
     "output_type": "error",
     "traceback": [
      "\u001b[0;31m---------------------------------------------------------------------------\u001b[0m",
      "\u001b[0;31mModuleNotFoundError\u001b[0m                       Traceback (most recent call last)",
      "Cell \u001b[0;32mIn[2], line 1\u001b[0m\n\u001b[0;32m----> 1\u001b[0m \u001b[39mimport\u001b[39;00m \u001b[39mpandas\u001b[39;00m \u001b[39mas\u001b[39;00m \u001b[39mpd\u001b[39;00m\n\u001b[1;32m      2\u001b[0m \u001b[39mimport\u001b[39;00m \u001b[39mcrowdtruth\u001b[39;00m\n\u001b[1;32m      3\u001b[0m \u001b[39mimport\u001b[39;00m \u001b[39mcsv\u001b[39;00m\n",
      "\u001b[0;31mModuleNotFoundError\u001b[0m: No module named 'pandas'"
     ]
    }
   ],
   "source": [
    "import pandas as pd\n",
    "import crowdtruth\n",
    "import csv\n",
    "\n",
    "from crowdtruth.configuration import DefaultConfig\n",
    "import dateparser\n",
    "\n",
    "\n",
    "df = pd.read_csv(\"data/Answers_general.csv\")\n"
   ]
  },
  {
   "cell_type": "code",
   "execution_count": 25,
   "id": "b974c263",
   "metadata": {},
   "outputs": [
    {
     "name": "stdout",
     "output_type": "stream",
     "text": [
      "   judgmentId  unitId  workerId           startedAt         submittedAt  \\\n",
      "0         100     100         1  31-3-2023 13:00:32  31-3-2023 13:00:32   \n",
      "1         101     100         2  31-3-2023 13:27:12  31-3-2023 13:27:12   \n",
      "2         102     100         3  31-3-2023 13:30:01  31-3-2023 13:30:01   \n",
      "3         103     100         4  31-3-2023 13:38:18  31-3-2023 13:38:18   \n",
      "4         104     100         5  31-3-2023 13:42:55  31-3-2023 13:42:55   \n",
      "\n",
      "  Answer                                  Link  \n",
      "0      4   https://forms.gle/THgNSrpyhWR8Hthi8  \n",
      "1      4   https://forms.gle/THgNSrpyhWR8Hthi9  \n",
      "2      4  https://forms.gle/THgNSrpyhWR8Hthi10  \n",
      "3      4  https://forms.gle/THgNSrpyhWR8Hthi11  \n",
      "4      4  https://forms.gle/THgNSrpyhWR8Hthi12  \n"
     ]
    }
   ],
   "source": [
    "print(df.head())\n"
   ]
  },
  {
   "cell_type": "code",
   "execution_count": 26,
   "id": "c3d955e5",
   "metadata": {},
   "outputs": [],
   "source": [
    "import crowdtruth\n",
    "from crowdtruth.configuration import DefaultConfig"
   ]
  },
  {
   "cell_type": "code",
   "execution_count": 1,
   "id": "53484b62",
   "metadata": {},
   "outputs": [
    {
     "ename": "NameError",
     "evalue": "name 'DefaultConfig' is not defined",
     "output_type": "error",
     "traceback": [
      "\u001b[0;31m---------------------------------------------------------------------------\u001b[0m",
      "\u001b[0;31mNameError\u001b[0m                                 Traceback (most recent call last)",
      "Cell \u001b[0;32mIn[1], line 1\u001b[0m\n\u001b[0;32m----> 1\u001b[0m \u001b[39mclass\u001b[39;00m \u001b[39mTestConfig\u001b[39;00m(DefaultConfig):\n\u001b[1;32m      2\u001b[0m     inputColumns \u001b[39m=\u001b[39m [\u001b[39m\"\u001b[39m\u001b[39mLink\u001b[39m\u001b[39m\"\u001b[39m]\n\u001b[1;32m      3\u001b[0m     outputColumns \u001b[39m=\u001b[39m [\u001b[39m\"\u001b[39m\u001b[39mAnswer\u001b[39m\u001b[39m\"\u001b[39m]\n",
      "\u001b[0;31mNameError\u001b[0m: name 'DefaultConfig' is not defined"
     ]
    }
   ],
   "source": [
    "class TestConfig(DefaultConfig):\n",
    "    inputColumns = [\"Link\"]\n",
    "    outputColumns = [\"Answer\"]\n",
    "    customPlatformColumns = [\"judgmentId\", \"unitId\", \"workerId\", \"startedAt\", \"submittedAt\"]\n",
    "    \n",
    "    # processing of a closed task\n",
    "    open_ended_task = True\n",
    "    annotation_vector = [\"1\", \"2\", \"3\", \"4\", \"5\", \"revolt\", \"strike\", \"protest\", \"insurrection\", \"justice\", \"anger\", \"violence\", \"desperation\"]\n",
    "    annotation_separator = \"/ \"\n",
    "    \n",
    "    def processJudgments(self, judgments):\n",
    "        # pre-process output to match the values in annotation_vector\n",
    "        for col in self.outputColumns:\n",
    "            # transform to lowercase\n",
    "            judgments[col] = judgments[col].apply(lambda x: str(x).lower())\n",
    "            # remove square brackets from annotations\n",
    "            judgments[col] = judgments[col].apply(lambda x: str(x).replace('[',''))\n",
    "            judgments[col] = judgments[col].apply(lambda x: str(x).replace(']',''))\n",
    "            # remove the quotes around the annotations\n",
    "            judgments[col] = judgments[col].apply(lambda x: str(x).replace('\"',''))\n",
    "        return judgments"
   ]
  },
  {
   "cell_type": "code",
   "execution_count": 38,
   "id": "3a14ae2e",
   "metadata": {},
   "outputs": [],
   "source": [
    "data, config = crowdtruth.load(\n",
    "    file = \"data/Answers_general.csv\",\n",
    "    config = TestConfig()\n",
    ")\n",
    "\n",
    "data['judgments'].to_csv(\"data/results_general/result_units.csv\")\n",
    "# with open('data/results/judgments.csv', 'w') as f:  # You will need 'wb' mode in Python 2.x\n"
   ]
  },
  {
   "cell_type": "code",
   "execution_count": 39,
   "id": "11e0202e",
   "metadata": {},
   "outputs": [],
   "source": [
    "results = crowdtruth.run(data, config)"
   ]
  },
  {
   "cell_type": "code",
   "execution_count": 41,
   "id": "fead892d",
   "metadata": {},
   "outputs": [],
   "source": [
    "results[\"units\"].head()\n",
    "results[\"units\"].to_csv(\"data/results_general/result_judgments.csv\")"
   ]
  },
  {
   "cell_type": "code",
   "execution_count": 42,
   "id": "5de94131",
   "metadata": {},
   "outputs": [
    {
     "data": {
      "text/plain": [
       "Text(0, 0.5, 'Sentences')"
      ]
     },
     "execution_count": 42,
     "metadata": {},
     "output_type": "execute_result"
    },
    {
     "data": {
      "image/png": "[encoded data removed]",
      "text/plain": [
       "<Figure size 640x480 with 1 Axes>"
      ]
     },
     "metadata": {},
     "output_type": "display_data"
    }
   ],
   "source": [
    "import matplotlib.pyplot as plt\n",
    "%matplotlib inline\n",
    "\n",
    "results[\"units\"][\"uqs\"].to_csv(\"data/results_general/unit_quality_score.csv\")\n",
    "plt.hist(results[\"units\"][\"uqs\"])\n",
    "plt.xlabel(\"Sentence Quality Score\")\n",
    "plt.ylabel(\"Sentences\")"
   ]
  },
  {
   "cell_type": "code",
   "execution_count": 43,
   "id": "2c58a4f0",
   "metadata": {},
   "outputs": [],
   "source": [
    "results[\"units\"][\"unit_annotation_score\"]\n",
    "results[\"units\"][\"unit_annotation_score\"].to_csv(\"data/results_general/unit_annotation_score.csv\")\n"
   ]
  },
  {
   "cell_type": "code",
   "execution_count": 44,
   "id": "19dfd5ea",
   "metadata": {},
   "outputs": [
    {
     "data": {
      "text/html": [
       "<div>\n",
       "<style scoped>\n",
       "    .dataframe tbody tr th:only-of-type {\n",
       "        vertical-align: middle;\n",
       "    }\n",
       "\n",
       "    .dataframe tbody tr th {\n",
       "        vertical-align: top;\n",
       "    }\n",
       "\n",
       "    .dataframe thead th {\n",
       "        text-align: right;\n",
       "    }\n",
       "</style>\n",
       "<table border=\"1\" class=\"dataframe\">\n",
       "  <thead>\n",
       "    <tr style=\"text-align: right;\">\n",
       "      <th></th>\n",
       "      <th>unit</th>\n",
       "      <th>judgment</th>\n",
       "      <th>job</th>\n",
       "      <th>duration</th>\n",
       "      <th>wqs</th>\n",
       "      <th>wwa</th>\n",
       "      <th>wsa</th>\n",
       "      <th>wqs_initial</th>\n",
       "      <th>wwa_initial</th>\n",
       "      <th>wsa_initial</th>\n",
       "    </tr>\n",
       "    <tr>\n",
       "      <th>worker</th>\n",
       "      <th></th>\n",
       "      <th></th>\n",
       "      <th></th>\n",
       "      <th></th>\n",
       "      <th></th>\n",
       "      <th></th>\n",
       "      <th></th>\n",
       "      <th></th>\n",
       "      <th></th>\n",
       "      <th></th>\n",
       "    </tr>\n",
       "  </thead>\n",
       "  <tbody>\n",
       "    <tr>\n",
       "      <th>1</th>\n",
       "      <td>3</td>\n",
       "      <td>3</td>\n",
       "      <td>1</td>\n",
       "      <td>0.0</td>\n",
       "      <td>0.235521</td>\n",
       "      <td>0.444104</td>\n",
       "      <td>0.530327</td>\n",
       "      <td>0.248532</td>\n",
       "      <td>0.412865</td>\n",
       "      <td>0.601969</td>\n",
       "    </tr>\n",
       "    <tr>\n",
       "      <th>2</th>\n",
       "      <td>3</td>\n",
       "      <td>3</td>\n",
       "      <td>1</td>\n",
       "      <td>0.0</td>\n",
       "      <td>0.776100</td>\n",
       "      <td>0.808603</td>\n",
       "      <td>0.959804</td>\n",
       "      <td>0.623077</td>\n",
       "      <td>0.672781</td>\n",
       "      <td>0.926123</td>\n",
       "    </tr>\n",
       "    <tr>\n",
       "      <th>3</th>\n",
       "      <td>3</td>\n",
       "      <td>3</td>\n",
       "      <td>1</td>\n",
       "      <td>0.0</td>\n",
       "      <td>0.717018</td>\n",
       "      <td>0.778359</td>\n",
       "      <td>0.921191</td>\n",
       "      <td>0.543984</td>\n",
       "      <td>0.635341</td>\n",
       "      <td>0.856209</td>\n",
       "    </tr>\n",
       "    <tr>\n",
       "      <th>4</th>\n",
       "      <td>3</td>\n",
       "      <td>3</td>\n",
       "      <td>1</td>\n",
       "      <td>0.0</td>\n",
       "      <td>0.665457</td>\n",
       "      <td>0.753398</td>\n",
       "      <td>0.883273</td>\n",
       "      <td>0.457064</td>\n",
       "      <td>0.587543</td>\n",
       "      <td>0.777924</td>\n",
       "    </tr>\n",
       "    <tr>\n",
       "      <th>5</th>\n",
       "      <td>3</td>\n",
       "      <td>3</td>\n",
       "      <td>1</td>\n",
       "      <td>0.0</td>\n",
       "      <td>0.515798</td>\n",
       "      <td>0.659550</td>\n",
       "      <td>0.782045</td>\n",
       "      <td>0.418960</td>\n",
       "      <td>0.544595</td>\n",
       "      <td>0.769305</td>\n",
       "    </tr>\n",
       "    <tr>\n",
       "      <th>6</th>\n",
       "      <td>3</td>\n",
       "      <td>3</td>\n",
       "      <td>1</td>\n",
       "      <td>0.0</td>\n",
       "      <td>0.326386</td>\n",
       "      <td>0.536826</td>\n",
       "      <td>0.607991</td>\n",
       "      <td>0.266971</td>\n",
       "      <td>0.455168</td>\n",
       "      <td>0.586533</td>\n",
       "    </tr>\n",
       "    <tr>\n",
       "      <th>7</th>\n",
       "      <td>3</td>\n",
       "      <td>3</td>\n",
       "      <td>1</td>\n",
       "      <td>0.0</td>\n",
       "      <td>0.168495</td>\n",
       "      <td>0.391011</td>\n",
       "      <td>0.430920</td>\n",
       "      <td>0.129136</td>\n",
       "      <td>0.310505</td>\n",
       "      <td>0.415890</td>\n",
       "    </tr>\n",
       "    <tr>\n",
       "      <th>8</th>\n",
       "      <td>3</td>\n",
       "      <td>3</td>\n",
       "      <td>1</td>\n",
       "      <td>0.0</td>\n",
       "      <td>0.726371</td>\n",
       "      <td>0.782812</td>\n",
       "      <td>0.927900</td>\n",
       "      <td>0.517338</td>\n",
       "      <td>0.623464</td>\n",
       "      <td>0.829781</td>\n",
       "    </tr>\n",
       "    <tr>\n",
       "      <th>9</th>\n",
       "      <td>3</td>\n",
       "      <td>3</td>\n",
       "      <td>1</td>\n",
       "      <td>0.0</td>\n",
       "      <td>0.789559</td>\n",
       "      <td>0.813894</td>\n",
       "      <td>0.970101</td>\n",
       "      <td>0.598702</td>\n",
       "      <td>0.664509</td>\n",
       "      <td>0.900968</td>\n",
       "    </tr>\n",
       "    <tr>\n",
       "      <th>10</th>\n",
       "      <td>3</td>\n",
       "      <td>3</td>\n",
       "      <td>1</td>\n",
       "      <td>0.0</td>\n",
       "      <td>0.724451</td>\n",
       "      <td>0.783953</td>\n",
       "      <td>0.924100</td>\n",
       "      <td>0.533742</td>\n",
       "      <td>0.628588</td>\n",
       "      <td>0.849112</td>\n",
       "    </tr>\n",
       "    <tr>\n",
       "      <th>11</th>\n",
       "      <td>3</td>\n",
       "      <td>3</td>\n",
       "      <td>1</td>\n",
       "      <td>0.0</td>\n",
       "      <td>0.321200</td>\n",
       "      <td>0.525979</td>\n",
       "      <td>0.610670</td>\n",
       "      <td>0.229208</td>\n",
       "      <td>0.423220</td>\n",
       "      <td>0.541582</td>\n",
       "    </tr>\n",
       "    <tr>\n",
       "      <th>12</th>\n",
       "      <td>3</td>\n",
       "      <td>3</td>\n",
       "      <td>1</td>\n",
       "      <td>0.0</td>\n",
       "      <td>0.161111</td>\n",
       "      <td>0.368419</td>\n",
       "      <td>0.437304</td>\n",
       "      <td>0.111997</td>\n",
       "      <td>0.291578</td>\n",
       "      <td>0.384107</td>\n",
       "    </tr>\n",
       "  </tbody>\n",
       "</table>\n",
       "</div>"
      ],
      "text/plain": [
       "        unit  judgment  job  duration       wqs       wwa       wsa  \\\n",
       "worker                                                                \n",
       "1          3         3    1       0.0  0.235521  0.444104  0.530327   \n",
       "2          3         3    1       0.0  0.776100  0.808603  0.959804   \n",
       "3          3         3    1       0.0  0.717018  0.778359  0.921191   \n",
       "4          3         3    1       0.0  0.665457  0.753398  0.883273   \n",
       "5          3         3    1       0.0  0.515798  0.659550  0.782045   \n",
       "6          3         3    1       0.0  0.326386  0.536826  0.607991   \n",
       "7          3         3    1       0.0  0.168495  0.391011  0.430920   \n",
       "8          3         3    1       0.0  0.726371  0.782812  0.927900   \n",
       "9          3         3    1       0.0  0.789559  0.813894  0.970101   \n",
       "10         3         3    1       0.0  0.724451  0.783953  0.924100   \n",
       "11         3         3    1       0.0  0.321200  0.525979  0.610670   \n",
       "12         3         3    1       0.0  0.161111  0.368419  0.437304   \n",
       "\n",
       "        wqs_initial  wwa_initial  wsa_initial  \n",
       "worker                                         \n",
       "1          0.248532     0.412865     0.601969  \n",
       "2          0.623077     0.672781     0.926123  \n",
       "3          0.543984     0.635341     0.856209  \n",
       "4          0.457064     0.587543     0.777924  \n",
       "5          0.418960     0.544595     0.769305  \n",
       "6          0.266971     0.455168     0.586533  \n",
       "7          0.129136     0.310505     0.415890  \n",
       "8          0.517338     0.623464     0.829781  \n",
       "9          0.598702     0.664509     0.900968  \n",
       "10         0.533742     0.628588     0.849112  \n",
       "11         0.229208     0.423220     0.541582  \n",
       "12         0.111997     0.291578     0.384107  "
      ]
     },
     "execution_count": 44,
     "metadata": {},
     "output_type": "execute_result"
    }
   ],
   "source": [
    "results[\"workers\"].to_csv(\"data/results_general/workers.csv\")\n",
    "results[\"workers\"]\n"
   ]
  },
  {
   "cell_type": "code",
   "execution_count": 45,
   "id": "2e8e14c0",
   "metadata": {},
   "outputs": [
    {
     "data": {
      "text/plain": [
       "Text(0, 0.5, 'Workers')"
      ]
     },
     "execution_count": 45,
     "metadata": {},
     "output_type": "execute_result"
    },
    {
     "data": {
      "image/png": "[encoded data removed]",
      "text/plain": [
       "<Figure size 640x480 with 1 Axes>"
      ]
     },
     "metadata": {},
     "output_type": "display_data"
    }
   ],
   "source": [
    "plt.hist(results[\"workers\"][\"wqs\"])\n",
    "plt.xlabel(\"Worker Quality Score\")\n",
    "plt.ylabel(\"Workers\")"
   ]
  },
  {
   "cell_type": "code",
   "execution_count": 20,
   "id": "a433e18c",
   "metadata": {},
   "outputs": [],
   "source": [
    "results[\"annotations\"]\n",
    "results[\"annotations\"].to_csv(\"data/results_general/annotation_score.csv\")"
   ]
  }
 ],
 "metadata": {
  "kernelspec": {
   "display_name": "Python 3 (ipykernel)",
   "language": "python",
   "name": "python3"
  },
  "language_info": {
   "codemirror_mode": {
    "name": "ipython",
    "version": 3
   },
   "file_extension": ".py",
   "mimetype": "text/x-python",
   "name": "python",
   "nbconvert_exporter": "python",
   "pygments_lexer": "ipython3",
   "version": "3.11.3"
  }
 },
 "nbformat": 4,
 "nbformat_minor": 5
}
