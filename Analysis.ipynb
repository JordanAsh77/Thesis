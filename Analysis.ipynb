{
 "cells": [
  {
   "attachments": {},
   "cell_type": "markdown",
   "metadata": {},
   "source": [
    "# Further Analysis"
   ]
  },
  {
   "attachments": {},
   "cell_type": "markdown",
   "metadata": {},
   "source": [
    "This notebook will generate some more detailed statistics about the Annotation Unit, and Worker scores. We will ensure to show this per niche group\n"
   ]
  },
  {
   "cell_type": "code",
   "execution_count": 43,
   "metadata": {},
   "outputs": [],
   "source": [
    "import pandas as pd\n",
    "import matplotlib.pyplot as plt\n",
    "import seaborn as sns\n",
    "import os\n",
    "import json\n",
    "import ast\n",
    "import csv"
   ]
  },
  {
   "attachments": {},
   "cell_type": "markdown",
   "metadata": {},
   "source": [
    "## Part 1: Generating the top 3 UAS scores\n",
    "\n",
    "We will start of by showing the top 3 UAS scores per annotated photograph. This is will then be shown per niche group. To do that, we first define a couple of functions that will ensure we get the top 3 most prevalent annotations per photograph per niche group."
   ]
  },
  {
   "attachments": {},
   "cell_type": "markdown",
   "metadata": {},
   "source": [
    "This function selects the top 3 items from the UAS scores per photograph, which are stored in a Python dict format"
   ]
  },
  {
   "cell_type": "code",
   "execution_count": 285,
   "metadata": {},
   "outputs": [],
   "source": [
    "def get_top_3(uas_dict):\n",
    "\n",
    "    top_3_values = sorted(uas_dict.items(), key=lambda x: x[1], reverse=True)[:3]\n",
    "    top_3_dict = {key: value for key, value in top_3_values}\n",
    "    return top_3_dict\n"
   ]
  },
  {
   "attachments": {},
   "cell_type": "markdown",
   "metadata": {},
   "source": [
    "The function below ensures that we properly format the dicts per column. The dicts containing all of the scores are stored in string format. The ast library alllows us to transform this string in a proper dict format"
   ]
  },
  {
   "cell_type": "code",
   "execution_count": 286,
   "metadata": {},
   "outputs": [],
   "source": [
    "def get_uas(df):\n",
    "\n",
    "    uas_list = []\n",
    "    uas_dict = {}\n",
    "    unit_int = 101\n",
    "\n",
    "\n",
    "    # Assuming your DataFrame is named 'df' with a column named 'data'\n",
    "\n",
    "    df['unit_annotation_score'] = df['unit_annotation_score'].str.replace(\"‘\", \"'\").str.replace(\"’\", \"'\")\n",
    "    df['unit_annotation_score'] = df['unit_annotation_score'].apply(ast.literal_eval)\n",
    "\n",
    "\n",
    "    data_list = df['unit_annotation_score'].tolist()\n",
    "\n",
    "    for item in data_list:\n",
    "        new_dict = get_top_3(item)\n",
    "        uas_dict[\"Unit \" + str(unit_int)] = new_dict\n",
    "        unit_int += 1\n",
    "\n",
    "    return uas_dict\n"
   ]
  },
  {
   "attachments": {},
   "cell_type": "markdown",
   "metadata": {},
   "source": [
    "The function below removes the starting and trailing characters to ensure that we can properly format the dictionaries with the scores"
   ]
  },
  {
   "cell_type": "code",
   "execution_count": 305,
   "metadata": {},
   "outputs": [],
   "source": [
    "def fix_format(df):\n",
    "    df['unit_annotation_score'] = df['unit_annotation_score'].str.replace('Counter(', '').str[:-1]\n",
    "\n",
    "    return df"
   ]
  },
  {
   "attachments": {},
   "cell_type": "markdown",
   "metadata": {},
   "source": [
    "We then select the root folder where the UAS scores are stored per niche group"
   ]
  },
  {
   "cell_type": "code",
   "execution_count": null,
   "metadata": {},
   "outputs": [],
   "source": [
    "root_directory = 'data/results/Grouped_results/UAS'"
   ]
  },
  {
   "attachments": {},
   "cell_type": "markdown",
   "metadata": {},
   "source": [
    "We loop through all of the UAS scores per niche group, and ensure that through the defined functions the top 3 UAS scores are generated and stored in proper data formats. "
   ]
  },
  {
   "cell_type": "code",
   "execution_count": 318,
   "metadata": {},
   "outputs": [],
   "source": [
    "# Use os.walk to recursively traverse the directory tree\n",
    "for root, _, files in os.walk(root_directory):\n",
    "    for file_name in files:\n",
    "        # Get the full path of the file\n",
    "        file_path = os.path.join(root, file_name)\n",
    "        if file_path.endswith('.csv'):\n",
    "            df = pd.read_csv(file_path, encoding= 'unicode_escape')\n",
    "            df = fix_format(df)\n",
    "            top_3_uas = get_uas(df)\n",
    "            top_3_uas = pd.DataFrame.from_dict(top_3_uas)\n",
    "            top_3_uas.to_csv('data/results/Grouped_results/Top_3_UAS/Top_3_' + file_name)\n",
    "\n",
    "\n",
    "        "
   ]
  },
  {
   "attachments": {},
   "cell_type": "markdown",
   "metadata": {},
   "source": [
    "## Part 2: Generating the top 3 annotations per Niche group over all annotated photographs\n",
    "We then generated the top 3 terms annotated per niche group"
   ]
  },
  {
   "attachments": {},
   "cell_type": "markdown",
   "metadata": {},
   "source": [
    "We first select the root folder"
   ]
  },
  {
   "cell_type": "code",
   "execution_count": 319,
   "metadata": {},
   "outputs": [],
   "source": [
    "root_directory = 'data/results/Grouped_results/AQS'\n",
    "\n"
   ]
  },
  {
   "attachments": {},
   "cell_type": "markdown",
   "metadata": {},
   "source": [
    "We again loop through all of files, and store the top 3 annotations per niche group into seperate csv files"
   ]
  },
  {
   "cell_type": "code",
   "execution_count": 325,
   "metadata": {},
   "outputs": [],
   "source": [
    "for root, _, files in os.walk(root_directory):\n",
    "    for file_name in files:\n",
    "        # Get the full path of the file\n",
    "        file_path = os.path.join(root, file_name)\n",
    "        if file_path.endswith('.csv'):\n",
    "            df = pd.read_csv(file_path, encoding= 'unicode_escape')\n",
    "            sorted_df = df.sort_values('output.Answer', ascending=False)\n",
    "            top_3_annotations = sorted_df.head(3)\n",
    "            top_3_annotations.to_csv('data/results/Grouped_results/Top_3_annotations/Top_3_' + file_name)\n",
    "            # print(top_3_annotations.head())\n",
    "\n",
    "\n"
   ]
  },
  {
   "attachments": {},
   "cell_type": "markdown",
   "metadata": {},
   "source": [
    "## Part 3: Generating the top 10 selected annotation\n",
    "The function below shows how we can generate the top 10 annotations supplied by all of the annotators"
   ]
  },
  {
   "cell_type": "code",
   "execution_count": null,
   "metadata": {},
   "outputs": [
    {
     "data": {
      "image/png": "[encoded data removed]",
      "text/plain": [
       "<Figure size 1000x800 with 1 Axes>"
      ]
     },
     "metadata": {},
     "output_type": "display_data"
    }
   ],
   "source": [
    "# Example data\n",
    "annotation_options = df['Options']\n",
    "annotations = df['Counts']\n",
    "\n",
    "plt.figure(figsize=(10, 8)) \n",
    "# Sort the data in descending order\n",
    "sorted_data = sorted(zip(annotation_options, annotations), key=lambda x: x[1], reverse=True)\n",
    "\n",
    "# Extract the top 10 options and annotations\n",
    "top_options = [option for option, _ in sorted_data[:10]]\n",
    "top_annotations = [annotation for _, annotation in sorted_data[:10]]\n",
    "\n",
    "# Generate numerical labels\n",
    "numerical_labels = range(1, len(top_options) + 1)\n",
    "\n",
    "# Create a bar chart with numerical labels\n",
    "plt.bar(numerical_labels, top_annotations)\n",
    "\n",
    "# Customize the plot\n",
    "plt.xlabel('Options')\n",
    "plt.ylabel('Number of Annotations')\n",
    "plt.title('Number of Annotations for Top 10 Options')\n",
    "\n",
    "# Set the x-tick positions and labels\n",
    "plt.xticks(numerical_labels, top_options)\n",
    "\n",
    "# Display the plot\n",
    "plt.show()"
   ]
  },
  {
   "attachments": {},
   "cell_type": "markdown",
   "metadata": {},
   "source": [
    "## Part 4: Generating Scatterplots displaying the WWA scores per niche group"
   ]
  },
  {
   "attachments": {},
   "cell_type": "markdown",
   "metadata": {},
   "source": [
    "We first load the CrowdTruth results for the workers into a Pandas DataFrame"
   ]
  },
  {
   "cell_type": "code",
   "execution_count": null,
   "metadata": {},
   "outputs": [],
   "source": [
    "df = pd.read_csv('data/results/workers/results.csv', sep=';')"
   ]
  },
  {
   "attachments": {},
   "cell_type": "markdown",
   "metadata": {},
   "source": [
    "We then first generate the WWA scores per connection type. The WWA scores for the workers show which workers consistently made similar annotations. Participants with similar scores made similar annotations per annotated photograph"
   ]
  },
  {
   "cell_type": "code",
   "execution_count": null,
   "metadata": {},
   "outputs": [],
   "source": [
    "\n",
    "# Scatterplot for the first annotation score (color 1)\n",
    "sns.scatterplot(data=df, x='Connection_type', y='wwa', color='blue', label='wwa')\n",
    "\n",
    "# Scatterplot for the second annotation score (color 2)\n",
    "# sns.scatterplot(data=df, x='Connection_type', y='wqs', color='red', label='wqs')\n",
    "\n",
    "\n",
    "# Set x-axis tick positions to 1\n",
    "plt.xticks(range(0, 4), ['No_connection', 'Cultural', 'Personal_interest', 'Indirect'])\n",
    "\n",
    "\n",
    "# Set labels and title\n",
    "plt.xlabel('Connection type')\n",
    "plt.ylabel('WWA Scores')\n",
    "plt.title('Distribution of the WWA scores per connection type')\n",
    "\n",
    "\n",
    "# Display the legend\n",
    "plt.legend()\n",
    "\n",
    "# Display the plot\n",
    "plt.show()"
   ]
  },
  {
   "attachments": {},
   "cell_type": "markdown",
   "metadata": {},
   "source": [
    "We then generate the scatterplot for the WWA scores per conenction level"
   ]
  },
  {
   "cell_type": "code",
   "execution_count": null,
   "metadata": {},
   "outputs": [],
   "source": [
    "\n",
    "# Scatterplot for the first annotation score (color 1)\n",
    "sns.scatterplot(data=df, x='Connection_level', y='wwa', color='blue', label='wwa')\n",
    "\n",
    "# Scatterplot for the second annotation score (color 2)\n",
    "# sns.scatterplot(data=df, x='Connection_level', y='wqs', color='red', label='wqs')\n",
    "\n",
    "# Set x-axis tick positions to 1\n",
    "plt.xticks(range(1, 6), ['Very Weak', 'Weak', 'Neutral', 'Strong', 'Very Strong'])\n",
    "\n",
    "\n",
    "\n",
    "# Set labels and title\n",
    "plt.xlabel('Connection_level')\n",
    "plt.ylabel('Annotation Scores')\n",
    "plt.title('Distribution of WWA scores per connection level')\n",
    "\n",
    "# Display the legend\n",
    "# plt.legend()\n",
    "\n",
    "# Display the plot\n",
    "plt.show()"
   ]
  },
  {
   "attachments": {},
   "cell_type": "markdown",
   "metadata": {},
   "source": [
    "To get a better understanding of the distribution of the WWA scores, we ensure that we ran some additional statistical tests "
   ]
  },
  {
   "attachments": {},
   "cell_type": "markdown",
   "metadata": {},
   "source": [
    "We first load the worker results again into a dataframe and compute the connection level into a format \n",
    "From: (1-5) \n",
    "To: (Very Weak- Very Strong)"
   ]
  },
  {
   "cell_type": "code",
   "execution_count": 45,
   "metadata": {},
   "outputs": [],
   "source": [
    "df = pd.read_csv('data/results/workers/results.csv', sep=';')\n",
    "\n",
    "original_values = [1, 2, 3, 4, 5]\n",
    "new_values = [\"Very Weak\", \"Weak\", \"Neutral\", \"Strong\", \"Very Strong\"]\n",
    "\n",
    "for original, new in zip(original_values, new_values):\n",
    "    df['Connection_level'] = df['Connection_level'].replace(original, new)\n",
    "\n",
    "\n",
    "df.drop(['Connection_type'], axis=1, inplace=True)\n"
   ]
  },
  {
   "attachments": {},
   "cell_type": "markdown",
   "metadata": {},
   "source": [
    "We then create the function that generates all of the necessary results"
   ]
  },
  {
   "cell_type": "code",
   "execution_count": 46,
   "metadata": {},
   "outputs": [],
   "source": [
    "import numpy as np\n",
    "\n",
    "def calc_deviations(df):\n",
    "\n",
    "    deviations = {}\n",
    "\n",
    "    deviations['Mean']= np.mean(df['wwa'])\n",
    "    deviations['Median'] = np.median(df['wwa'])\n",
    "    deviations['mode'] = df['wwa'].mode().values[0]  # Assumes a single mode, can handle multiple modes as well\n",
    "\n",
    "    # Measures of Dispersion\n",
    "    deviations['range'] = np.ptp(df['wwa'])  # Equivalent to max - min\n",
    "    deviations['variance'] = np.var(df['wwa'])\n",
    "    deviations['std_deviations'] = np.std(df['wwa'])\n",
    "    deviations['iqr'] = np.percentile(df['wwa'], 75) - np.percentile(df['wwa'], 25)\n",
    "\n",
    "    return deviations"
   ]
  },
  {
   "attachments": {},
   "cell_type": "markdown",
   "metadata": {},
   "source": [
    "The cell below ensures that we first get all of the results per connection level"
   ]
  },
  {
   "cell_type": "code",
   "execution_count": 53,
   "metadata": {},
   "outputs": [],
   "source": [
    "grouped = df.groupby('Connection_level')\n",
    "\n",
    "# Iterate over the groups and create separate DataFrames for each group\n",
    "dataframes = {}\n",
    "for group_name, group_df in grouped:\n",
    "    dataframes[group_name] = group_df.copy()\n",
    "\n",
    "\n",
    "\n",
    "\n",
    "wwa_deviations_VW        = calc_deviations(dataframes['Very Weak'])\n",
    "wwa_deviations_W         = calc_deviations(dataframes['Weak'])\n",
    "wwa_deviations_N         = calc_deviations(dataframes['Neutral'])\n",
    "wwa_deviations_S         = calc_deviations(dataframes['Strong'])\n",
    "wwa_deviations_VS        = calc_deviations(dataframes['Very Strong'])\n",
    "\n",
    "\n",
    "wwa_deviations = {}\n",
    "wwa_deviations['Very Weak']   = wwa_deviations_VW\n",
    "wwa_deviations['Weak']        = wwa_deviations_W\n",
    "wwa_deviations['Neutral']     = wwa_deviations_N\n",
    "wwa_deviations['Strong']      = wwa_deviations_S\n",
    "wwa_deviations['Very Strong'] = wwa_deviations_VS\n",
    "\n",
    "\n",
    "\n"
   ]
  },
  {
   "attachments": {},
   "cell_type": "markdown",
   "metadata": {},
   "source": [
    "The results are then written to individual CSV files"
   ]
  },
  {
   "cell_type": "code",
   "execution_count": 55,
   "metadata": {},
   "outputs": [],
   "source": [
    "for k, v in wwa_deviations.items():\n",
    "    file_path = 'data/results/workers/Deviations/Per_level/WWA_deviations_' + str(k) + '.csv'\n",
    "    \n",
    "    # Write the dictionary values to the CSV file\n",
    "    with open(file_path, 'w', newline='') as csvfile:\n",
    "        writer = csv.writer(csvfile)\n",
    "        writer.writerow(v.keys())  # Write the header row\n",
    "        writer.writerow(v.values())  # Write the data row"
   ]
  },
  {
   "attachments": {},
   "cell_type": "markdown",
   "metadata": {},
   "source": [
    "Consequently, we do the exact same for the connection types"
   ]
  },
  {
   "cell_type": "code",
   "execution_count": null,
   "metadata": {},
   "outputs": [
    {
     "name": "stdout",
     "output_type": "stream",
     "text": [
      "Cultural\n",
      "No_connection\n",
      "Personal_interest\n",
      "Indirect\n"
     ]
    }
   ],
   "source": [
    "df = pd.read_csv('data/results/workers/results.csv', sep=';')\n",
    "\n",
    "grouped = df.groupby('Connection_type')\n",
    "\n",
    "# Iterate over the groups and create separate DataFrames for each group\n",
    "dataframes = {}\n",
    "for group_name, group_df in grouped:\n",
    "    dataframes[group_name] = group_df.copy()\n",
    "\n",
    "\n",
    "# dataframes['Culturele verbondenheid']\n",
    "\n",
    "\n",
    "wwa_deviations_cultural          = calc_deviations(dataframes['Culturele verbondenheid'])\n",
    "wwa_deviations_no_connection     = calc_deviations(dataframes['Geen directe verbondenheid met de gebeurtenis'])\n",
    "wwa_deviations_personal_interest = calc_deviations(dataframes['Persoonlijke interesse'])\n",
    "wwa_deviations_indirect        = calc_deviations(dataframes['Indirecte persoonlijke betrokkenheid of ervaring (Middels een kennis of familielid)'])\n",
    "\n",
    "\n",
    "wwa_deviations = {}\n",
    "wwa_deviations['Cultural'] = wwa_deviations_cultural\n",
    "wwa_deviations['No_connection'] = wwa_deviations_no_connection\n",
    "wwa_deviations['Personal_interest'] = wwa_deviations_personal_interest\n",
    "wwa_deviations['Indirect'] = wwa_deviations_indirect\n",
    "\n",
    "# Access the separate DataFrames based on the group name\n",
    "\n"
   ]
  },
  {
   "attachments": {},
   "cell_type": "markdown",
   "metadata": {},
   "source": [
    "Again, the results are written to individual CSV files"
   ]
  },
  {
   "cell_type": "code",
   "execution_count": null,
   "metadata": {},
   "outputs": [],
   "source": [
    "\n",
    "for k, v in wwa_deviations.items():\n",
    "    file_path = 'data/results/workers/Deviations/Per_type/WWA_deviations_' + str(k) + '.csv'\n",
    "    \n",
    "    # Write the dictionary values to the CSV file\n",
    "    with open(file_path, 'w', newline='') as csvfile:\n",
    "        writer = csv.writer(csvfile)\n",
    "        writer.writerow(v.keys())  # Write the header row\n",
    "        writer.writerow(v.values())  # Write the data row\n"
   ]
  }
 ],
 "metadata": {
  "kernelspec": {
   "display_name": "Python 3",
   "language": "python",
   "name": "python3"
  },
  "language_info": {
   "codemirror_mode": {
    "name": "ipython",
    "version": 3
   },
   "file_extension": ".py",
   "mimetype": "text/x-python",
   "name": "python",
   "nbconvert_exporter": "python",
   "pygments_lexer": "ipython3",
   "version": "3.11.3"
  },
  "orig_nbformat": 4
 },
 "nbformat": 4,
 "nbformat_minor": 2
}
